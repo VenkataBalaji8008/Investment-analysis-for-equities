{
 "cells": [
  {
   "cell_type": "code",
   "execution_count": 14,
   "id": "c7ab777c-e87f-442d-944b-67e060f97bba",
   "metadata": {},
   "outputs": [
    {
     "name": "stdout",
     "output_type": "stream",
     "text": [
      "Requirement already satisfied: yfinance in c:\\users\\dell\\documents\\custom office templates\\lib\\site-packages (0.2.61)\n",
      "Requirement already satisfied: pandas>=1.3.0 in c:\\users\\dell\\documents\\custom office templates\\lib\\site-packages (from yfinance) (2.2.2)\n",
      "Requirement already satisfied: numpy>=1.16.5 in c:\\users\\dell\\documents\\custom office templates\\lib\\site-packages (from yfinance) (1.26.4)\n",
      "Requirement already satisfied: requests>=2.31 in c:\\users\\dell\\documents\\custom office templates\\lib\\site-packages (from yfinance) (2.32.3)\n",
      "Requirement already satisfied: multitasking>=0.0.7 in c:\\users\\dell\\documents\\custom office templates\\lib\\site-packages (from yfinance) (0.0.11)\n",
      "Requirement already satisfied: platformdirs>=2.0.0 in c:\\users\\dell\\documents\\custom office templates\\lib\\site-packages (from yfinance) (3.10.0)\n",
      "Requirement already satisfied: pytz>=2022.5 in c:\\users\\dell\\documents\\custom office templates\\lib\\site-packages (from yfinance) (2024.1)\n",
      "Requirement already satisfied: frozendict>=2.3.4 in c:\\users\\dell\\documents\\custom office templates\\lib\\site-packages (from yfinance) (2.4.2)\n",
      "Requirement already satisfied: peewee>=3.16.2 in c:\\users\\dell\\documents\\custom office templates\\lib\\site-packages (from yfinance) (3.18.1)\n",
      "Requirement already satisfied: beautifulsoup4>=4.11.1 in c:\\users\\dell\\documents\\custom office templates\\lib\\site-packages (from yfinance) (4.12.3)\n",
      "Requirement already satisfied: curl_cffi>=0.7 in c:\\users\\dell\\documents\\custom office templates\\lib\\site-packages (from yfinance) (0.11.1)\n",
      "Requirement already satisfied: protobuf>=3.19.0 in c:\\users\\dell\\documents\\custom office templates\\lib\\site-packages (from yfinance) (4.25.3)\n",
      "Requirement already satisfied: websockets>=13.0 in c:\\users\\dell\\documents\\custom office templates\\lib\\site-packages (from yfinance) (15.0.1)\n",
      "Requirement already satisfied: soupsieve>1.2 in c:\\users\\dell\\documents\\custom office templates\\lib\\site-packages (from beautifulsoup4>=4.11.1->yfinance) (2.5)\n",
      "Requirement already satisfied: cffi>=1.12.0 in c:\\users\\dell\\documents\\custom office templates\\lib\\site-packages (from curl_cffi>=0.7->yfinance) (1.17.1)\n",
      "Requirement already satisfied: certifi>=2024.2.2 in c:\\users\\dell\\documents\\custom office templates\\lib\\site-packages (from curl_cffi>=0.7->yfinance) (2024.8.30)\n",
      "Requirement already satisfied: python-dateutil>=2.8.2 in c:\\users\\dell\\documents\\custom office templates\\lib\\site-packages (from pandas>=1.3.0->yfinance) (2.9.0.post0)\n",
      "Requirement already satisfied: tzdata>=2022.7 in c:\\users\\dell\\documents\\custom office templates\\lib\\site-packages (from pandas>=1.3.0->yfinance) (2023.3)\n",
      "Requirement already satisfied: charset-normalizer<4,>=2 in c:\\users\\dell\\documents\\custom office templates\\lib\\site-packages (from requests>=2.31->yfinance) (3.3.2)\n",
      "Requirement already satisfied: idna<4,>=2.5 in c:\\users\\dell\\documents\\custom office templates\\lib\\site-packages (from requests>=2.31->yfinance) (3.7)\n",
      "Requirement already satisfied: urllib3<3,>=1.21.1 in c:\\users\\dell\\documents\\custom office templates\\lib\\site-packages (from requests>=2.31->yfinance) (2.2.3)\n",
      "Requirement already satisfied: pycparser in c:\\users\\dell\\documents\\custom office templates\\lib\\site-packages (from cffi>=1.12.0->curl_cffi>=0.7->yfinance) (2.21)\n",
      "Requirement already satisfied: six>=1.5 in c:\\users\\dell\\documents\\custom office templates\\lib\\site-packages (from python-dateutil>=2.8.2->pandas>=1.3.0->yfinance) (1.16.0)\n"
     ]
    }
   ],
   "source": [
    "import numpy as NP\n",
    "from scipy.stats import norm\n",
    "!pip install yfinance\n",
    "import numpy as np\n",
    "import pandas as pd\n",
    "import matplotlib.pyplot as plt\n",
    "import plotly.express as px\n",
    "import yfinance as yf"
   ]
  },
  {
   "cell_type": "code",
   "execution_count": 30,
   "id": "8285d28c-922a-40ad-bc2a-315445b746f4",
   "metadata": {},
   "outputs": [],
   "source": [
    "#s=stock price\n",
    "#k=strike price\n",
    "#t=time to maturity\n",
    "#r=risk free interest rate\n",
    "#sigma= volatility of stock\n",
    "\n",
    "def black_scholes_call(S,K,T,r,sigma):\n",
    "    d1=(np.log(S/K)+(r+0.5*sigma**2)*T)/(sigma*np.sqrt(T))\n",
    "    d2=d1-sigma*np.sqrt(T)\n",
    "    call_option = S*norm.cdf(d1)-K*np.exp(-r*T)*norm.cdf(d2)\n",
    "    return call_option"
   ]
  },
  {
   "cell_type": "code",
   "execution_count": 31,
   "id": "9de762bc-decd-4d84-a83a-8be547f57ea8",
   "metadata": {},
   "outputs": [],
   "source": [
    "def black_scholes_put(S,K,T,r,sigma):\n",
    "    d1=(np.log(S/K)+(r+0.5*sigma**2)*T)/(sigma*np.sqrt(T))\n",
    "    d2=d1-sigma*np.sqrt(T)\n",
    "    put_option = K*np.exp(-r*T)*norm.cdf(-d2)-S*norm.cdf(-d1)\n",
    "    return put_option"
   ]
  },
  {
   "cell_type": "code",
   "execution_count": 43,
   "id": "5c8909bf-27c3-48da-af17-998e0681ea45",
   "metadata": {},
   "outputs": [
    {
     "data": {
      "text/plain": [
       "6.203136017267752"
      ]
     },
     "execution_count": 43,
     "metadata": {},
     "output_type": "execute_result"
    }
   ],
   "source": [
    "S=100\n",
    "K=95\n",
    "T=3/12 #3months in 1 year\n",
    "r=0.04 #4 percent\n",
    "Sigma=0.10 #10 percent\n",
    "black_scholes_call(S,K,T,r,Sigma)"
   ]
  },
  {
   "cell_type": "code",
   "execution_count": 44,
   "id": "d51ce526-71b5-4ce9-b538-a73f6832ab6a",
   "metadata": {},
   "outputs": [
    {
     "data": {
      "text/plain": [
       "0.257870223438724"
      ]
     },
     "execution_count": 44,
     "metadata": {},
     "output_type": "execute_result"
    }
   ],
   "source": [
    "#we can write as below as well\n",
    "black_scholes_put(S=100,K=95,T=3/12,r=0.04,sigma = 0.1)"
   ]
  },
  {
   "cell_type": "code",
   "execution_count": 49,
   "id": "1281b7b1-81be-487e-9653-c8702a061921",
   "metadata": {},
   "outputs": [
    {
     "data": {
      "text/plain": [
       "0.1"
      ]
     },
     "execution_count": 49,
     "metadata": {},
     "output_type": "execute_result"
    }
   ],
   "source": [
    "S=100\n",
    "K=95\n",
    "T=3/12 #3months in 1 year\n",
    "r=0.04 #4 percent\n",
    "black_scholes_call=6.203136017267752\n",
    "Sigma"
   ]
  },
  {
   "cell_type": "code",
   "execution_count": 47,
   "id": "d1ff5c1b-932c-4302-a193-f192dd5055f4",
   "metadata": {},
   "outputs": [
    {
     "data": {
      "text/plain": [
       "0.1"
      ]
     },
     "execution_count": 47,
     "metadata": {},
     "output_type": "execute_result"
    }
   ],
   "source": [
    "S=55550\n",
    "K=55600\n",
    "T=3/12 #3months in 1 year\n",
    "r=0.20 #4 percent\n",
    "black_scholes_call=656.90\n",
    "Sigma"
   ]
  },
  {
   "cell_type": "code",
   "execution_count": null,
   "id": "874fb8dc-654b-49c1-96b1-dfd668316db1",
   "metadata": {},
   "outputs": [],
   "source": []
  }
 ],
 "metadata": {
  "kernelspec": {
   "display_name": "Python 3 (ipykernel)",
   "language": "python",
   "name": "python3"
  },
  "language_info": {
   "codemirror_mode": {
    "name": "ipython",
    "version": 3
   },
   "file_extension": ".py",
   "mimetype": "text/x-python",
   "name": "python",
   "nbconvert_exporter": "python",
   "pygments_lexer": "ipython3",
   "version": "3.12.7"
  }
 },
 "nbformat": 4,
 "nbformat_minor": 5
}
